{
  "cells": [
    {
      "cell_type": "code",
      "execution_count": null,
      "metadata": {
        "id": "pEx_wS3VBdSG"
      },
      "outputs": [],
      "source": [
        "!pip install openai"
      ]
    },
    {
      "cell_type": "code",
      "execution_count": null,
      "metadata": {
        "id": "_riExx8NBdSI"
      },
      "outputs": [],
      "source": [
        "import openai\n",
        "import pandas as pd\n",
        "import time\n",
        "import re\n",
        "# 발급받은 API 키 설정\n",
        "OPENAI_API_KEY = '발급받은 API 키를 입력하세요!'\n",
        "\n",
        "# openai API 키 인증\n",
        "openai.api_key = OPENAI_API_KEY"
      ]
    },
    {
      "cell_type": "code",
      "execution_count": null,
      "metadata": {
        "id": "bllzCIYwBdSJ"
      },
      "outputs": [],
      "source": [
        "data = pd.read_csv(\"./train.csv\")"
      ]
    },
    {
      "cell_type": "code",
      "execution_count": null,
      "metadata": {
        "id": "4QpYueAxBdSJ"
      },
      "outputs": [],
      "source": [
        "ANSWERS = []"
      ]
    },
    {
      "cell_type": "code",
      "execution_count": null,
      "metadata": {
        "id": "C6TC1RDSBdSJ"
      },
      "outputs": [],
      "source": [
        "for i in range(0,len(data)):\n",
        "    A = data['first_party'][i]\n",
        "    B = data['second_party'][i]\n",
        "    TEXT = data['facts'][i]\n",
        "    model = \"gpt-3.5-turbo\"\n",
        "\n",
        "    query = TEXT + \"0 is\" + A + \"and 1 is\" + B+ \". Who won, \"+ \"0? or 1? please answer only number. like 0\"\n",
        "\n",
        "    messages = [\n",
        "            {\"role\": \"system\", \"content\": \"You are a lawyer.\"},\n",
        "            {\"role\": \"user\", \"content\": query}\n",
        "    ]\n",
        "\n",
        "    response = openai.ChatCompletion.create(\n",
        "        model=model,\n",
        "        messages=messages\n",
        "    )\n",
        "    answer = response['choices'][0]['message']['content']\n",
        "    numbers = re.sub(r'[^0-9]', '', answer)\n",
        "    ANSWERS.append(numbers)\n",
        "\n",
        "    time.sleep(5)"
      ]
    },
    {
      "cell_type": "code",
      "execution_count": null,
      "metadata": {
        "id": "y5lyrCJVBdSK"
      },
      "outputs": [],
      "source": [
        "for i in range(len(ANSWERS),len(data)):\n",
        "    A = data['first_party'][i]\n",
        "    B = data['second_party'][i]\n",
        "    TEXT = data['facts'][i]\n",
        "    model = \"gpt-3.5-turbo\"\n",
        "\n",
        "    query = TEXT + \"0 is\" + A + \"and 1 is\" + B+ \". Who won, \"+ \"0? or 1? please answer only number. like 0\"\n",
        "\n",
        "    messages = [\n",
        "            {\"role\": \"system\", \"content\": \"You are a lawyer.\"},\n",
        "            {\"role\": \"user\", \"content\": query}\n",
        "    ]\n",
        "\n",
        "    response = openai.ChatCompletion.create(\n",
        "        model=model,\n",
        "        messages=messages\n",
        "    )\n",
        "    answer = response['choices'][0]['message']['content']\n",
        "    numbers = re.sub(r'[^0-9]', '', answer)\n",
        "    ANSWERS.append(numbers)\n",
        "\n",
        "    time.sleep(0.5)"
      ]
    },
    {
      "cell_type": "code",
      "execution_count": null,
      "metadata": {
        "id": "FErIJlR1BdSK"
      },
      "outputs": [],
      "source": [
        "print(\"(\", len(ANSWERS),\"/\", len(data),\")\", len(ANSWERS)/len(data)*100,\"% 완료\")"
      ]
    },
    {
      "cell_type": "code",
      "execution_count": null,
      "metadata": {
        "id": "Zm-t8zURBdSL"
      },
      "outputs": [],
      "source": [
        "data['GPT'] = ANSWERS"
      ]
    },
    {
      "cell_type": "code",
      "execution_count": null,
      "metadata": {
        "id": "2TAMxZTyBdSL"
      },
      "outputs": [],
      "source": [
        "data.to_csv(\"./train_gpt.csv\", index = False)"
      ]
    }
  ],
  "metadata": {
    "kernelspec": {
      "display_name": "moon",
      "language": "python",
      "name": "python3"
    },
    "language_info": {
      "codemirror_mode": {
        "name": "ipython",
        "version": 3
      },
      "file_extension": ".py",
      "mimetype": "text/x-python",
      "name": "python",
      "nbconvert_exporter": "python",
      "pygments_lexer": "ipython3",
      "version": "3.8.16"
    },
    "orig_nbformat": 4,
    "colab": {
      "provenance": []
    }
  },
  "nbformat": 4,
  "nbformat_minor": 0
}